{
 "cells": [
  {
   "cell_type": "code",
   "execution_count": 1,
   "id": "642f8c5f",
   "metadata": {},
   "outputs": [],
   "source": [
    "list = ['apple', 'banana', 'cherry']"
   ]
  },
  {
   "cell_type": "code",
   "execution_count": 2,
   "id": "9d3f937f",
   "metadata": {},
   "outputs": [
    {
     "name": "stdout",
     "output_type": "stream",
     "text": [
      "['apple', 'banana', 'cherry']\n"
     ]
    }
   ],
   "source": [
    "print(list)"
   ]
  },
  {
   "cell_type": "code",
   "execution_count": 3,
   "id": "819fbc30",
   "metadata": {},
   "outputs": [
    {
     "data": {
      "text/plain": [
       "3"
      ]
     },
     "execution_count": 3,
     "metadata": {},
     "output_type": "execute_result"
    }
   ],
   "source": [
    "len(list)"
   ]
  },
  {
   "cell_type": "code",
   "execution_count": 5,
   "id": "2ba2e504",
   "metadata": {},
   "outputs": [
    {
     "name": "stdout",
     "output_type": "stream",
     "text": [
      "<class 'list'>\n"
     ]
    }
   ],
   "source": [
    "print(type(list))"
   ]
  },
  {
   "cell_type": "code",
   "execution_count": 8,
   "id": "8a3d9f60",
   "metadata": {},
   "outputs": [
    {
     "name": "stdout",
     "output_type": "stream",
     "text": [
      "['Uttam', 'Kumar', 'Jhon', 'khan']\n"
     ]
    }
   ],
   "source": [
    "# list2 = list(('Uttam', 'Kumar', 'Jhon', 'khan'))\n",
    "#list method is not work \n",
    "list2 = ['Uttam', 'Kumar', 'Jhon', 'khan']\n",
    "print(list2)"
   ]
  },
  {
   "cell_type": "code",
   "execution_count": 9,
   "id": "2b02818b",
   "metadata": {},
   "outputs": [
    {
     "name": "stdout",
     "output_type": "stream",
     "text": [
      "['Kumar', 'Jhon', 'khan']\n"
     ]
    }
   ],
   "source": [
    "print(list2[1:])"
   ]
  },
  {
   "cell_type": "code",
   "execution_count": 10,
   "id": "4491b38d",
   "metadata": {},
   "outputs": [],
   "source": [
    "if \"uttam\" in list2:\n",
    "    print(\"Uttam is in the list\")"
   ]
  },
  {
   "cell_type": "code",
   "execution_count": 11,
   "id": "3d68f8cb",
   "metadata": {},
   "outputs": [
    {
     "name": "stdout",
     "output_type": "stream",
     "text": [
      "Uttam is in the list\n"
     ]
    }
   ],
   "source": [
    "if \"Uttam\" in list2:\n",
    "    print(\"Uttam is in the list\")\n",
    "    \n",
    "#Search Item in list is case sensitive"
   ]
  },
  {
   "cell_type": "code",
   "execution_count": 12,
   "id": "0c45e02a",
   "metadata": {},
   "outputs": [
    {
     "name": "stdout",
     "output_type": "stream",
     "text": [
      "['Uttam', 'Sun', 'Jhon', 'khan']\n"
     ]
    }
   ],
   "source": [
    "list2[1] = 'Sun'\n",
    "print(list2)"
   ]
  },
  {
   "cell_type": "code",
   "execution_count": 20,
   "id": "c9104362",
   "metadata": {},
   "outputs": [],
   "source": [
    "number = [1,2,3,4,5,6,7,8,9]"
   ]
  },
  {
   "cell_type": "code",
   "execution_count": 21,
   "id": "a36f4cdb",
   "metadata": {},
   "outputs": [
    {
     "name": "stdout",
     "output_type": "stream",
     "text": [
      "[1, 100, 2, 3, 4, 5, 6, 7, 8, 9]\n"
     ]
    }
   ],
   "source": [
    "number.insert(1, 100)\n",
    "print(number)"
   ]
  },
  {
   "cell_type": "code",
   "execution_count": 22,
   "id": "c45e1d4c",
   "metadata": {},
   "outputs": [],
   "source": [
    "number.append(20)"
   ]
  },
  {
   "cell_type": "code",
   "execution_count": 23,
   "id": "a37e2a75",
   "metadata": {},
   "outputs": [
    {
     "name": "stdout",
     "output_type": "stream",
     "text": [
      "[1, 100, 2, 3, 4, 5, 6, 7, 8, 9, 20]\n"
     ]
    }
   ],
   "source": [
    "print(number)"
   ]
  },
  {
   "cell_type": "markdown",
   "id": "7d730157",
   "metadata": {},
   "source": [
    "# Extend"
   ]
  },
  {
   "cell_type": "code",
   "execution_count": 24,
   "id": "af26d57c",
   "metadata": {},
   "outputs": [
    {
     "name": "stdout",
     "output_type": "stream",
     "text": [
      "['apple', 'banana', 'cherry', 'Uttam', 'Sun', 'Jhon', 'khan']\n"
     ]
    }
   ],
   "source": [
    "list.extend(list2)\n",
    "print(list)"
   ]
  },
  {
   "cell_type": "code",
   "execution_count": 25,
   "id": "1bbee3d3",
   "metadata": {},
   "outputs": [
    {
     "name": "stdout",
     "output_type": "stream",
     "text": [
      "[1, 2, 3, 4, 'A', 'B', 'C']\n"
     ]
    }
   ],
   "source": [
    "thislist = [1,2,3,4]\n",
    "thistuple = ('A', 'B', 'C')\n",
    "thislist.extend(thistuple)\n",
    "print(thislist)"
   ]
  },
  {
   "cell_type": "code",
   "execution_count": 26,
   "id": "f9dc939b",
   "metadata": {},
   "outputs": [
    {
     "name": "stdout",
     "output_type": "stream",
     "text": [
      "<class 'list'>\n"
     ]
    }
   ],
   "source": [
    "print(type(thislist))"
   ]
  },
  {
   "cell_type": "code",
   "execution_count": null,
   "id": "e98543c6",
   "metadata": {},
   "outputs": [],
   "source": []
  },
  {
   "cell_type": "code",
   "execution_count": 14,
   "id": "1a5077f7",
   "metadata": {},
   "outputs": [
    {
     "name": "stdout",
     "output_type": "stream",
     "text": [
      "[1, 10, 11, 4, 5, 6, 7, 8, 9]\n"
     ]
    }
   ],
   "source": [
    "number[1:3] = [10,11]\n",
    "print(number)"
   ]
  },
  {
   "cell_type": "code",
   "execution_count": 15,
   "id": "4aaa24b8",
   "metadata": {},
   "outputs": [
    {
     "name": "stdout",
     "output_type": "stream",
     "text": [
      "['A']\n"
     ]
    }
   ],
   "source": [
    "number[0:9] = ['A']\n",
    "print(number)"
   ]
  },
  {
   "cell_type": "code",
   "execution_count": 17,
   "id": "402be962",
   "metadata": {},
   "outputs": [
    {
     "name": "stdout",
     "output_type": "stream",
     "text": [
      "[1, 2, 3, 4, 5, 6, 7, 8, 9]\n"
     ]
    }
   ],
   "source": [
    "print(number)"
   ]
  },
  {
   "cell_type": "code",
   "execution_count": 18,
   "id": "301f25a9",
   "metadata": {},
   "outputs": [
    {
     "name": "stdout",
     "output_type": "stream",
     "text": [
      "[10, 4, 5, 6, 7, 8, 9]\n"
     ]
    }
   ],
   "source": [
    "number[0:3] = [10]\n",
    "print(number)"
   ]
  },
  {
   "cell_type": "code",
   "execution_count": 19,
   "id": "35876ff2",
   "metadata": {},
   "outputs": [
    {
     "data": {
      "text/plain": [
       "[10, 4, 5, 6]"
      ]
     },
     "execution_count": 19,
     "metadata": {},
     "output_type": "execute_result"
    }
   ],
   "source": [
    "number[:4]"
   ]
  },
  {
   "cell_type": "markdown",
   "id": "9e82c427",
   "metadata": {},
   "source": [
    "# Delete item"
   ]
  },
  {
   "cell_type": "code",
   "execution_count": 28,
   "id": "519b744b",
   "metadata": {},
   "outputs": [
    {
     "name": "stdout",
     "output_type": "stream",
     "text": [
      "[1, 2, 3, 4, 5, 6, 7, 8, 9, 20]\n"
     ]
    }
   ],
   "source": [
    "number.remove(100)\n",
    "print(number)"
   ]
  },
  {
   "cell_type": "code",
   "execution_count": 29,
   "id": "a6091f50",
   "metadata": {},
   "outputs": [
    {
     "data": {
      "text/plain": [
       "20"
      ]
     },
     "execution_count": 29,
     "metadata": {},
     "output_type": "execute_result"
    }
   ],
   "source": [
    "number.pop()"
   ]
  },
  {
   "cell_type": "code",
   "execution_count": 30,
   "id": "f78c3bb3",
   "metadata": {},
   "outputs": [
    {
     "name": "stdout",
     "output_type": "stream",
     "text": [
      "[1, 2, 3, 4, 5, 6, 7, 8]\n"
     ]
    }
   ],
   "source": [
    "del number[8]\n",
    "print(number)"
   ]
  },
  {
   "cell_type": "code",
   "execution_count": 31,
   "id": "25daef90",
   "metadata": {},
   "outputs": [
    {
     "ename": "NameError",
     "evalue": "name 'number' is not defined",
     "output_type": "error",
     "traceback": [
      "\u001b[0;31m---------------------------------------------------------------------------\u001b[0m",
      "\u001b[0;31mNameError\u001b[0m                                 Traceback (most recent call last)",
      "\u001b[0;32m<ipython-input-31-070ae4a4523a>\u001b[0m in \u001b[0;36m<module>\u001b[0;34m\u001b[0m\n\u001b[1;32m      1\u001b[0m \u001b[0;32mdel\u001b[0m \u001b[0mnumber\u001b[0m\u001b[0;34m\u001b[0m\u001b[0;34m\u001b[0m\u001b[0m\n\u001b[0;32m----> 2\u001b[0;31m \u001b[0mprint\u001b[0m\u001b[0;34m(\u001b[0m\u001b[0mnumber\u001b[0m\u001b[0;34m)\u001b[0m\u001b[0;34m\u001b[0m\u001b[0;34m\u001b[0m\u001b[0m\n\u001b[0m",
      "\u001b[0;31mNameError\u001b[0m: name 'number' is not defined"
     ]
    }
   ],
   "source": [
    "del number\n",
    "print(number)"
   ]
  },
  {
   "cell_type": "code",
   "execution_count": 32,
   "id": "204418e7",
   "metadata": {},
   "outputs": [
    {
     "name": "stdout",
     "output_type": "stream",
     "text": [
      "[1, 2, 3, 4, 5, 6]\n"
     ]
    }
   ],
   "source": [
    "num = [1,2,3,4,5,6]\n",
    "print(num)"
   ]
  },
  {
   "cell_type": "code",
   "execution_count": 33,
   "id": "0d9847b4",
   "metadata": {},
   "outputs": [
    {
     "name": "stdout",
     "output_type": "stream",
     "text": [
      "[]\n"
     ]
    }
   ],
   "source": [
    "num.clear()\n",
    "print(num)"
   ]
  },
  {
   "cell_type": "markdown",
   "id": "d52f007e",
   "metadata": {},
   "source": [
    "# Loop Through a List"
   ]
  },
  {
   "cell_type": "code",
   "execution_count": 34,
   "id": "bb27e927",
   "metadata": {},
   "outputs": [
    {
     "name": "stdout",
     "output_type": "stream",
     "text": [
      "[1, 2, 3, 4, 'A', 'B', 'C']\n"
     ]
    }
   ],
   "source": [
    "print(thislist)"
   ]
  },
  {
   "cell_type": "code",
   "execution_count": 35,
   "id": "3732e3d2",
   "metadata": {},
   "outputs": [
    {
     "name": "stdout",
     "output_type": "stream",
     "text": [
      "1\n",
      "2\n",
      "3\n",
      "4\n",
      "A\n",
      "B\n",
      "C\n"
     ]
    }
   ],
   "source": [
    "for x in thislist:\n",
    "    print(x)"
   ]
  },
  {
   "cell_type": "code",
   "execution_count": 36,
   "id": "ad85a4b7",
   "metadata": {},
   "outputs": [
    {
     "name": "stdout",
     "output_type": "stream",
     "text": [
      "1\n",
      "2\n",
      "3\n",
      "4\n",
      "A\n",
      "B\n",
      "C\n"
     ]
    }
   ],
   "source": [
    "for i in range(len(thislist)):\n",
    "    print(thislist[i])"
   ]
  },
  {
   "cell_type": "code",
   "execution_count": 38,
   "id": "02113160",
   "metadata": {},
   "outputs": [
    {
     "name": "stdout",
     "output_type": "stream",
     "text": [
      "[1, 2, 3, 4, 'A', 'B', 'C']\n"
     ]
    }
   ],
   "source": [
    "while i < len(thislist):\n",
    "    print(thislist)\n",
    "    i+=1"
   ]
  },
  {
   "cell_type": "code",
   "execution_count": 39,
   "id": "1655ca8c",
   "metadata": {},
   "outputs": [
    {
     "name": "stdout",
     "output_type": "stream",
     "text": [
      "1\n",
      "2\n",
      "3\n",
      "4\n",
      "A\n",
      "B\n",
      "C\n"
     ]
    },
    {
     "data": {
      "text/plain": [
       "[None, None, None, None, None, None, None]"
      ]
     },
     "execution_count": 39,
     "metadata": {},
     "output_type": "execute_result"
    }
   ],
   "source": [
    "[print(x) for x in thislist]"
   ]
  },
  {
   "cell_type": "code",
   "execution_count": 40,
   "id": "bbca7ac8",
   "metadata": {},
   "outputs": [
    {
     "name": "stdout",
     "output_type": "stream",
     "text": [
      "[1, 2, 3, 4, 'A', 'B', 'C']\n"
     ]
    }
   ],
   "source": [
    "print(thislist)"
   ]
  },
  {
   "cell_type": "code",
   "execution_count": 41,
   "id": "12ed30d1",
   "metadata": {},
   "outputs": [
    {
     "ename": "TypeError",
     "evalue": "'>' not supported between instances of 'str' and 'int'",
     "output_type": "error",
     "traceback": [
      "\u001b[0;31m---------------------------------------------------------------------------\u001b[0m",
      "\u001b[0;31mTypeError\u001b[0m                                 Traceback (most recent call last)",
      "\u001b[0;32m<ipython-input-41-0895a6fe7b58>\u001b[0m in \u001b[0;36m<module>\u001b[0;34m\u001b[0m\n\u001b[1;32m      1\u001b[0m \u001b[0;32mfor\u001b[0m \u001b[0mx\u001b[0m \u001b[0;32min\u001b[0m \u001b[0mthislist\u001b[0m\u001b[0;34m:\u001b[0m\u001b[0;34m\u001b[0m\u001b[0;34m\u001b[0m\u001b[0m\n\u001b[0;32m----> 2\u001b[0;31m     \u001b[0;32mif\u001b[0m \u001b[0mx\u001b[0m \u001b[0;34m>\u001b[0m \u001b[0;36m62\u001b[0m\u001b[0;34m:\u001b[0m\u001b[0;34m\u001b[0m\u001b[0;34m\u001b[0m\u001b[0m\n\u001b[0m\u001b[1;32m      3\u001b[0m         \u001b[0mnewlist\u001b[0m\u001b[0;34m.\u001b[0m\u001b[0mappend\u001b[0m\u001b[0;34m(\u001b[0m\u001b[0mx\u001b[0m\u001b[0;34m)\u001b[0m\u001b[0;34m\u001b[0m\u001b[0;34m\u001b[0m\u001b[0m\n\u001b[1;32m      4\u001b[0m \u001b[0;34m\u001b[0m\u001b[0m\n\u001b[1;32m      5\u001b[0m \u001b[0mprint\u001b[0m\u001b[0;34m(\u001b[0m\u001b[0mnewlist\u001b[0m\u001b[0;34m)\u001b[0m\u001b[0;34m\u001b[0m\u001b[0;34m\u001b[0m\u001b[0m\n",
      "\u001b[0;31mTypeError\u001b[0m: '>' not supported between instances of 'str' and 'int'"
     ]
    }
   ],
   "source": [
    "for x in thislist:\n",
    "    if x > 62:\n",
    "        newlist.append(x)\n",
    "        \n",
    "print(newlist)"
   ]
  },
  {
   "cell_type": "code",
   "execution_count": 1,
   "id": "d3215d8e",
   "metadata": {},
   "outputs": [
    {
     "name": "stdout",
     "output_type": "stream",
     "text": [
      "['apple', 'banana']\n"
     ]
    }
   ],
   "source": [
    "fruits = ['apple', 'banana', 'cherry']\n",
    "newlist = [x for x in fruits if \"a\" in x]\n",
    "print(newlist)"
   ]
  },
  {
   "cell_type": "code",
   "execution_count": 3,
   "id": "d77e3c97",
   "metadata": {},
   "outputs": [
    {
     "name": "stdout",
     "output_type": "stream",
     "text": [
      "['apple', 'banana', 'mango']\n"
     ]
    }
   ],
   "source": [
    "fruits = [\"apple\", \"banana\", \"cherry\", \"kiwi\", \"mango\"]\n",
    "newlist = []\n",
    "\n",
    "for x in fruits:\n",
    "    if \"a\" in x:\n",
    "        newlist.append(x)\n",
    "\n",
    "print(newlist) "
   ]
  },
  {
   "cell_type": "code",
   "execution_count": 4,
   "id": "1fcdf2c5",
   "metadata": {},
   "outputs": [
    {
     "name": "stdout",
     "output_type": "stream",
     "text": [
      "['APPLE', 'BANANA', 'CHERRY', 'KIWI', 'MANGO']\n"
     ]
    }
   ],
   "source": [
    "fruits = [\"apple\", \"banana\", \"cherry\", \"kiwi\", \"mango\"]\n",
    "newlist = [x.upper() for x in fruits]\n",
    "print(newlist)"
   ]
  },
  {
   "cell_type": "code",
   "execution_count": 5,
   "id": "4b8002c9",
   "metadata": {},
   "outputs": [
    {
     "name": "stdout",
     "output_type": "stream",
     "text": [
      "APPLE\n",
      "BANANA\n",
      "CHERRY\n",
      "KIWI\n",
      "MANGO\n"
     ]
    }
   ],
   "source": [
    "for x in fruits:\n",
    "    print(x.upper())"
   ]
  },
  {
   "cell_type": "code",
   "execution_count": 6,
   "id": "1ad5a12b",
   "metadata": {},
   "outputs": [],
   "source": [
    "newlist = [x if x != \"banana\" else \"orange\" for x in fruits]\n",
    "# \"Return the item if it is not banana, if it is banana return orange\"."
   ]
  },
  {
   "cell_type": "code",
   "execution_count": 7,
   "id": "9eb8e270",
   "metadata": {},
   "outputs": [
    {
     "name": "stdout",
     "output_type": "stream",
     "text": [
      "['apple', 'orange', 'cherry', 'kiwi', 'mango']\n"
     ]
    }
   ],
   "source": [
    "print( newlist)"
   ]
  },
  {
   "cell_type": "code",
   "execution_count": null,
   "id": "1440cd26",
   "metadata": {},
   "outputs": [],
   "source": []
  }
 ],
 "metadata": {
  "kernelspec": {
   "display_name": "Python 3",
   "language": "python",
   "name": "python3"
  },
  "language_info": {
   "codemirror_mode": {
    "name": "ipython",
    "version": 3
   },
   "file_extension": ".py",
   "mimetype": "text/x-python",
   "name": "python",
   "nbconvert_exporter": "python",
   "pygments_lexer": "ipython3",
   "version": "3.8.8"
  }
 },
 "nbformat": 4,
 "nbformat_minor": 5
}
