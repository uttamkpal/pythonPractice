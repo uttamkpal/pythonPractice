{
 "cells": [
  {
   "cell_type": "code",
   "execution_count": 1,
   "id": "4b858190",
   "metadata": {},
   "outputs": [],
   "source": [
    "list = ['apple', 'banana', 'cherry']"
   ]
  },
  {
   "cell_type": "code",
   "execution_count": 2,
   "id": "b9e1560e",
   "metadata": {},
   "outputs": [
    {
     "name": "stdout",
     "output_type": "stream",
     "text": [
      "['apple', 'banana', 'cherry']\n"
     ]
    }
   ],
   "source": [
    "print(list)"
   ]
  },
  {
   "cell_type": "code",
   "execution_count": 3,
   "id": "18861747",
   "metadata": {},
   "outputs": [
    {
     "data": {
      "text/plain": [
       "3"
      ]
     },
     "execution_count": 3,
     "metadata": {},
     "output_type": "execute_result"
    }
   ],
   "source": [
    "len(list)"
   ]
  },
  {
   "cell_type": "code",
   "execution_count": 5,
   "id": "a5dcd6ca",
   "metadata": {},
   "outputs": [
    {
     "name": "stdout",
     "output_type": "stream",
     "text": [
      "<class 'list'>\n"
     ]
    }
   ],
   "source": [
    "print(type(list))"
   ]
  },
  {
   "cell_type": "code",
   "execution_count": 8,
   "id": "0fee93fa",
   "metadata": {},
   "outputs": [
    {
     "name": "stdout",
     "output_type": "stream",
     "text": [
      "['Uttam', 'Kumar', 'Jhon', 'khan']\n"
     ]
    }
   ],
   "source": [
    "# list2 = list(('Uttam', 'Kumar', 'Jhon', 'khan'))\n",
    "#list method is not work \n",
    "list2 = ['Uttam', 'Kumar', 'Jhon', 'khan']\n",
    "print(list2)"
   ]
  },
  {
   "cell_type": "code",
   "execution_count": 9,
   "id": "30d0d6d2",
   "metadata": {},
   "outputs": [
    {
     "name": "stdout",
     "output_type": "stream",
     "text": [
      "['Kumar', 'Jhon', 'khan']\n"
     ]
    }
   ],
   "source": [
    "print(list2[1:])"
   ]
  },
  {
   "cell_type": "code",
   "execution_count": 10,
   "id": "cf9afe7f",
   "metadata": {},
   "outputs": [],
   "source": [
    "if \"uttam\" in list2:\n",
    "    print(\"Uttam is in the list\")"
   ]
  },
  {
   "cell_type": "code",
   "execution_count": 11,
   "id": "3efb8e85",
   "metadata": {},
   "outputs": [
    {
     "name": "stdout",
     "output_type": "stream",
     "text": [
      "Uttam is in the list\n"
     ]
    }
   ],
   "source": [
    "if \"Uttam\" in list2:\n",
    "    print(\"Uttam is in the list\")\n",
    "    \n",
    "#Search Item in list is case sensitive"
   ]
  },
  {
   "cell_type": "code",
   "execution_count": null,
   "id": "ec433a62",
   "metadata": {},
   "outputs": [],
   "source": []
  }
 ],
 "metadata": {
  "kernelspec": {
   "display_name": "Python 3",
   "language": "python",
   "name": "python3"
  },
  "language_info": {
   "codemirror_mode": {
    "name": "ipython",
    "version": 3
   },
   "file_extension": ".py",
   "mimetype": "text/x-python",
   "name": "python",
   "nbconvert_exporter": "python",
   "pygments_lexer": "ipython3",
   "version": "3.8.8"
  }
 },
 "nbformat": 4,
 "nbformat_minor": 5
}
