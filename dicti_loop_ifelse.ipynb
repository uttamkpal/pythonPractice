{
 "cells": [
  {
   "cell_type": "code",
   "execution_count": 18,
   "id": "6e0c289f",
   "metadata": {},
   "outputs": [],
   "source": [
    "thisdict = {\n",
    "    \"name\" : \"Uttam\",\n",
    "    \"age\": 25,\n",
    "    \"work\": \"web developer\"\n",
    "}"
   ]
  },
  {
   "cell_type": "code",
   "execution_count": 2,
   "id": "f08ffe8e",
   "metadata": {},
   "outputs": [
    {
     "name": "stdout",
     "output_type": "stream",
     "text": [
      "{'name': 'Uttam', 'age': 25, 'work': 'web developer'}\n"
     ]
    }
   ],
   "source": [
    "print(thisdict)"
   ]
  },
  {
   "cell_type": "code",
   "execution_count": 3,
   "id": "2ff27051",
   "metadata": {},
   "outputs": [
    {
     "name": "stdout",
     "output_type": "stream",
     "text": [
      "Uttam\n"
     ]
    }
   ],
   "source": [
    "print(thisdict[\"name\"])"
   ]
  },
  {
   "cell_type": "markdown",
   "id": "b45de664",
   "metadata": {},
   "source": [
    "# Dictionary items are ordered, changeable, and does not allow duplicates."
   ]
  },
  {
   "cell_type": "code",
   "execution_count": 4,
   "id": "1e06cd36",
   "metadata": {},
   "outputs": [
    {
     "name": "stdout",
     "output_type": "stream",
     "text": [
      "Another Name\n"
     ]
    }
   ],
   "source": [
    "thisdict['name'] = \"Another Name\"\n",
    "print(thisdict[\"name\"])"
   ]
  },
  {
   "cell_type": "code",
   "execution_count": 6,
   "id": "c6bd85c0",
   "metadata": {},
   "outputs": [
    {
     "name": "stdout",
     "output_type": "stream",
     "text": [
      "{'name': 'two', 'age': 25}\n"
     ]
    }
   ],
   "source": [
    "dict2 = {\n",
    "    \"name\":\"one\",\n",
    "    \"age\": 25,\n",
    "    \"name\": \"two\"\n",
    "}\n",
    "print(dict2)"
   ]
  },
  {
   "cell_type": "code",
   "execution_count": 8,
   "id": "f068d005",
   "metadata": {},
   "outputs": [
    {
     "name": "stdout",
     "output_type": "stream",
     "text": [
      "3\n",
      "2\n"
     ]
    }
   ],
   "source": [
    "print(len(thisdict))\n",
    "print(len(dict2))"
   ]
  },
  {
   "cell_type": "code",
   "execution_count": 11,
   "id": "0245bf12",
   "metadata": {},
   "outputs": [
    {
     "name": "stdout",
     "output_type": "stream",
     "text": [
      "dict_keys(['name', 'age', 'work'])\n"
     ]
    }
   ],
   "source": [
    "x = thisdict.keys()\n",
    "print(x)"
   ]
  },
  {
   "cell_type": "code",
   "execution_count": 12,
   "id": "cdc59795",
   "metadata": {},
   "outputs": [
    {
     "name": "stdout",
     "output_type": "stream",
     "text": [
      "dict_values(['Another Name', 25, 'web developer'])\n"
     ]
    }
   ],
   "source": [
    "x = thisdict.values()\n",
    "print(x)"
   ]
  },
  {
   "cell_type": "code",
   "execution_count": 20,
   "id": "46370d16",
   "metadata": {},
   "outputs": [
    {
     "name": "stdout",
     "output_type": "stream",
     "text": [
      "dict_keys(['name', 'age', 'work'])\n",
      "dict_keys(['name', 'age', 'work', 'year'])\n"
     ]
    }
   ],
   "source": [
    "x = thisdict.keys()\n",
    "print(x)\n",
    "thisdict['year'] = 1997\n",
    "print(x)\n"
   ]
  },
  {
   "cell_type": "code",
   "execution_count": 21,
   "id": "51f5a780",
   "metadata": {},
   "outputs": [],
   "source": [
    "items = thisdict.items()"
   ]
  },
  {
   "cell_type": "code",
   "execution_count": 22,
   "id": "af7367b2",
   "metadata": {},
   "outputs": [
    {
     "name": "stdout",
     "output_type": "stream",
     "text": [
      "dict_items([('name', 'Uttam'), ('age', 25), ('work', 'web developer'), ('year', 1997)])\n"
     ]
    }
   ],
   "source": [
    "print(items)"
   ]
  },
  {
   "cell_type": "code",
   "execution_count": 25,
   "id": "e725853f",
   "metadata": {},
   "outputs": [
    {
     "name": "stdout",
     "output_type": "stream",
     "text": [
      "yes, name is Uttam\n"
     ]
    }
   ],
   "source": [
    "if \"name\" in thisdict:\n",
    "    print(\"yes, name is \" + thisdict['name'])"
   ]
  },
  {
   "cell_type": "code",
   "execution_count": 26,
   "id": "f40a1e32",
   "metadata": {},
   "outputs": [
    {
     "data": {
      "text/plain": [
       "1997"
      ]
     },
     "execution_count": 26,
     "metadata": {},
     "output_type": "execute_result"
    }
   ],
   "source": [
    "thisdict.pop('year')"
   ]
  },
  {
   "cell_type": "code",
   "execution_count": 27,
   "id": "fdf7ad24",
   "metadata": {},
   "outputs": [
    {
     "name": "stdout",
     "output_type": "stream",
     "text": [
      "{'name': 'Uttam', 'age': 25, 'work': 'web developer'}\n"
     ]
    }
   ],
   "source": [
    "print(thisdict)"
   ]
  },
  {
   "cell_type": "code",
   "execution_count": 28,
   "id": "86b35a47",
   "metadata": {},
   "outputs": [
    {
     "name": "stdout",
     "output_type": "stream",
     "text": [
      "{'name': 'Uttam', 'age': 25}\n"
     ]
    }
   ],
   "source": [
    "thisdict.popitem()\n",
    "print(thisdict)"
   ]
  },
  {
   "cell_type": "code",
   "execution_count": 29,
   "id": "83602672",
   "metadata": {},
   "outputs": [
    {
     "name": "stdout",
     "output_type": "stream",
     "text": [
      "{'name': 'Uttam'}\n"
     ]
    }
   ],
   "source": [
    "del thisdict['age']\n",
    "print(thisdict)"
   ]
  },
  {
   "cell_type": "code",
   "execution_count": 30,
   "id": "eec0afcc",
   "metadata": {},
   "outputs": [
    {
     "ename": "NameError",
     "evalue": "name 'thisdict' is not defined",
     "output_type": "error",
     "traceback": [
      "\u001b[0;31m---------------------------------------------------------------------------\u001b[0m",
      "\u001b[0;31mNameError\u001b[0m                                 Traceback (most recent call last)",
      "\u001b[0;32m<ipython-input-30-ad193cd02359>\u001b[0m in \u001b[0;36m<module>\u001b[0;34m\u001b[0m\n\u001b[1;32m      1\u001b[0m \u001b[0;32mdel\u001b[0m \u001b[0mthisdict\u001b[0m\u001b[0;34m\u001b[0m\u001b[0;34m\u001b[0m\u001b[0m\n\u001b[0;32m----> 2\u001b[0;31m \u001b[0mprint\u001b[0m\u001b[0;34m(\u001b[0m\u001b[0mthisdict\u001b[0m\u001b[0;34m)\u001b[0m\u001b[0;34m\u001b[0m\u001b[0;34m\u001b[0m\u001b[0m\n\u001b[0m",
      "\u001b[0;31mNameError\u001b[0m: name 'thisdict' is not defined"
     ]
    }
   ],
   "source": [
    "del thisdict\n",
    "print(thisdict)"
   ]
  },
  {
   "cell_type": "code",
   "execution_count": 31,
   "id": "68374530",
   "metadata": {},
   "outputs": [],
   "source": [
    "dict2.clear()"
   ]
  },
  {
   "cell_type": "code",
   "execution_count": 32,
   "id": "a39832a8",
   "metadata": {},
   "outputs": [
    {
     "name": "stdout",
     "output_type": "stream",
     "text": [
      "{}\n"
     ]
    }
   ],
   "source": [
    "print(dict2)"
   ]
  },
  {
   "cell_type": "code",
   "execution_count": 33,
   "id": "67ee44e8",
   "metadata": {},
   "outputs": [],
   "source": [
    "thisdict = {\n",
    "    \"name\" : \"uttam\",\n",
    "    \"age\" : 25,\n",
    "    \"work\" : \"computer\",\n",
    "    \"year\" : 1997,\n",
    "}"
   ]
  },
  {
   "cell_type": "code",
   "execution_count": 34,
   "id": "58cf7fc3",
   "metadata": {},
   "outputs": [
    {
     "name": "stdout",
     "output_type": "stream",
     "text": [
      "name\n",
      "age\n",
      "work\n",
      "year\n"
     ]
    }
   ],
   "source": [
    "for x in thisdict:\n",
    "    print(x)"
   ]
  },
  {
   "cell_type": "code",
   "execution_count": 35,
   "id": "6a5f55ea",
   "metadata": {},
   "outputs": [
    {
     "name": "stdout",
     "output_type": "stream",
     "text": [
      "uttam\n",
      "25\n",
      "computer\n",
      "1997\n"
     ]
    }
   ],
   "source": [
    "for x in thisdict:\n",
    "    print(thisdict[x])"
   ]
  },
  {
   "cell_type": "code",
   "execution_count": 37,
   "id": "627dc913",
   "metadata": {},
   "outputs": [
    {
     "name": "stdout",
     "output_type": "stream",
     "text": [
      "uttam\n",
      "25\n",
      "computer\n",
      "1997\n"
     ]
    }
   ],
   "source": [
    "for x in thisdict.values():\n",
    "    print(x)"
   ]
  },
  {
   "cell_type": "code",
   "execution_count": 38,
   "id": "5262da7d",
   "metadata": {},
   "outputs": [
    {
     "name": "stdout",
     "output_type": "stream",
     "text": [
      "name\n",
      "age\n",
      "work\n",
      "year\n"
     ]
    }
   ],
   "source": [
    "for x in thisdict.keys():\n",
    "    print(x)"
   ]
  },
  {
   "cell_type": "code",
   "execution_count": 39,
   "id": "fc75fd99",
   "metadata": {},
   "outputs": [
    {
     "name": "stdout",
     "output_type": "stream",
     "text": [
      "name uttam\n",
      "age 25\n",
      "work computer\n",
      "year 1997\n"
     ]
    }
   ],
   "source": [
    "for x, y in thisdict.items():\n",
    "    print(x, y)"
   ]
  },
  {
   "cell_type": "code",
   "execution_count": 40,
   "id": "17e27c27",
   "metadata": {},
   "outputs": [],
   "source": [
    "newdict = thisdict.copy()"
   ]
  },
  {
   "cell_type": "code",
   "execution_count": 41,
   "id": "08d753b9",
   "metadata": {},
   "outputs": [
    {
     "name": "stdout",
     "output_type": "stream",
     "text": [
      "{'name': 'uttam', 'age': 25, 'work': 'computer', 'year': 1997}\n",
      "{'name': 'uttam', 'age': 25, 'work': 'computer', 'year': 1997, 'new': 'hello'}\n",
      "{'name': 'uttam', 'age': 25, 'work': 'computer', 'year': 1997}\n"
     ]
    }
   ],
   "source": [
    "print(newdict)\n",
    "newdict['new'] = \"hello\"\n",
    "print(newdict)\n",
    "print(thisdict)"
   ]
  },
  {
   "cell_type": "code",
   "execution_count": 42,
   "id": "9e96980f",
   "metadata": {},
   "outputs": [
    {
     "name": "stdout",
     "output_type": "stream",
     "text": [
      "{'uttam': {'name': 'uttam kumar pal', 'age': 25}, 'jone': {'name': 'Jone jo', 'age': 40}, 'friend2': {'name': 'Friend Name 2', 'age': 23}}\n"
     ]
    }
   ],
   "source": [
    "myfriend = {\n",
    "    \"uttam\" : {\n",
    "        'name' : \"uttam kumar pal\",\n",
    "        'age' : 25\n",
    "    },\n",
    "    \"jone\" : {\n",
    "        'name' : \"Jone jo\",\n",
    "        'age' : 40\n",
    "    },\n",
    "    \"friend2\" : {\n",
    "        'name' : \"Friend Name 2\",\n",
    "        'age' : 23\n",
    "    }\n",
    "}\n",
    "print(myfriend)"
   ]
  },
  {
   "cell_type": "code",
   "execution_count": 43,
   "id": "b259e679",
   "metadata": {},
   "outputs": [
    {
     "data": {
      "text/plain": [
       "{'name': 'uttam kumar pal', 'age': 25}"
      ]
     },
     "execution_count": 43,
     "metadata": {},
     "output_type": "execute_result"
    }
   ],
   "source": [
    "myfriend[\"uttam\"]"
   ]
  },
  {
   "cell_type": "code",
   "execution_count": 44,
   "id": "665b2b16",
   "metadata": {},
   "outputs": [
    {
     "data": {
      "text/plain": [
       "'uttam kumar pal'"
      ]
     },
     "execution_count": 44,
     "metadata": {},
     "output_type": "execute_result"
    }
   ],
   "source": [
    "myfriend['uttam']['name']"
   ]
  },
  {
   "cell_type": "markdown",
   "id": "9feb032b",
   "metadata": {},
   "source": [
    "# Dictionary Methods\n",
    "### clear(), copy(), keys(), values(), items(), pop(), popitem(), update()"
   ]
  },
  {
   "cell_type": "markdown",
   "id": "52786a0d",
   "metadata": {},
   "source": [
    "# if ... else"
   ]
  },
  {
   "cell_type": "markdown",
   "id": "b4003485",
   "metadata": {},
   "source": [
    "##  ==, !=, <, >, <=, >=, "
   ]
  },
  {
   "cell_type": "code",
   "execution_count": 45,
   "id": "c8bfe9cf",
   "metadata": {},
   "outputs": [],
   "source": [
    "a, b = 12,21"
   ]
  },
  {
   "cell_type": "code",
   "execution_count": 46,
   "id": "194c1142",
   "metadata": {},
   "outputs": [
    {
     "data": {
      "text/plain": [
       "12"
      ]
     },
     "execution_count": 46,
     "metadata": {},
     "output_type": "execute_result"
    }
   ],
   "source": [
    "a "
   ]
  },
  {
   "cell_type": "code",
   "execution_count": 47,
   "id": "daf21a97",
   "metadata": {},
   "outputs": [
    {
     "name": "stdout",
     "output_type": "stream",
     "text": [
      "a less than b\n"
     ]
    }
   ],
   "source": [
    "if a > b:\n",
    "    print(\"a geater than b\")\n",
    "else :\n",
    "    print(\"a less than b\")"
   ]
  },
  {
   "cell_type": "code",
   "execution_count": 48,
   "id": "dc5a493b",
   "metadata": {},
   "outputs": [
    {
     "name": "stdout",
     "output_type": "stream",
     "text": [
      "a is equal 12\n",
      "12\n"
     ]
    }
   ],
   "source": [
    "a = 12\n",
    "if a < 12:\n",
    "    print(\"a is less than 12\")\n",
    "    print(a)\n",
    "elif a == 12 :\n",
    "    print(\"a is equal 12\")\n",
    "    print(a)\n",
    "else:\n",
    "    print(\"a geater than 12\")\n",
    "    print(a)\n",
    "    "
   ]
  },
  {
   "cell_type": "code",
   "execution_count": 49,
   "id": "d5fd7002",
   "metadata": {},
   "outputs": [
    {
     "name": "stdout",
     "output_type": "stream",
     "text": [
      "a is less than 12\n",
      "11\n"
     ]
    }
   ],
   "source": [
    "a = 11\n",
    "if a < 12:\n",
    "    print(\"a is less than 12\")\n",
    "    print(a)\n",
    "elif a == 12 :\n",
    "    print(\"a is equal 12\")\n",
    "    print(a)\n",
    "else:\n",
    "    print(\"a geater than 12\")\n",
    "    print(a)"
   ]
  },
  {
   "cell_type": "code",
   "execution_count": 50,
   "id": "255f7e06",
   "metadata": {},
   "outputs": [
    {
     "name": "stdout",
     "output_type": "stream",
     "text": [
      "a is less than b\n"
     ]
    }
   ],
   "source": [
    "# If you have only one statement to execute, you can put it on the same line as the if statement\n",
    "if a < b : print(\"a is less than b\")"
   ]
  },
  {
   "cell_type": "markdown",
   "id": "80d1d421",
   "metadata": {},
   "source": [
    "# Short Hand If ... Else"
   ]
  },
  {
   "cell_type": "code",
   "execution_count": 52,
   "id": "dcf76cf8",
   "metadata": {},
   "outputs": [
    {
     "name": "stdout",
     "output_type": "stream",
     "text": [
      "B\n"
     ]
    }
   ],
   "source": [
    "print(\"A\") if a > b else print('B')"
   ]
  },
  {
   "cell_type": "code",
   "execution_count": 53,
   "id": "10f22ba5",
   "metadata": {},
   "outputs": [
    {
     "name": "stdout",
     "output_type": "stream",
     "text": [
      "=\n"
     ]
    }
   ],
   "source": [
    "# One line if else statement, with 3 conditions:\n",
    "a = 330\n",
    "b = 330\n",
    "print(\"A\") if a > b else print(\"=\") if a == b else print(\"B\") "
   ]
  },
  {
   "cell_type": "markdown",
   "id": "f39ce887",
   "metadata": {},
   "source": [
    "### and, or, !"
   ]
  },
  {
   "cell_type": "code",
   "execution_count": 54,
   "id": "0ebacf7e",
   "metadata": {},
   "outputs": [
    {
     "name": "stdout",
     "output_type": "stream",
     "text": [
      "Both conditions are True\n",
      "Both or only one conditions are True\n"
     ]
    }
   ],
   "source": [
    "a = 200\n",
    "b = 33\n",
    "c = 500\n",
    "if a > b and c > a:\n",
    "  print(\"Both conditions are True\")\n",
    "if a < b or c > a:\n",
    "  print(\"Both or only one conditions are True\")"
   ]
  },
  {
   "cell_type": "code",
   "execution_count": 55,
   "id": "856c9af7",
   "metadata": {},
   "outputs": [
    {
     "ename": "SyntaxError",
     "evalue": "invalid syntax (<ipython-input-55-e49cccecb6f2>, line 1)",
     "output_type": "error",
     "traceback": [
      "\u001b[0;36m  File \u001b[0;32m\"<ipython-input-55-e49cccecb6f2>\"\u001b[0;36m, line \u001b[0;32m1\u001b[0m\n\u001b[0;31m    if a !> c:\u001b[0m\n\u001b[0m         ^\u001b[0m\n\u001b[0;31mSyntaxError\u001b[0m\u001b[0;31m:\u001b[0m invalid syntax\n"
     ]
    }
   ],
   "source": [
    "if a !> c: \n",
    "    print(\"a less than c\")\n",
    "else:\n",
    "    print(\"a geater than c\")"
   ]
  },
  {
   "cell_type": "code",
   "execution_count": 56,
   "id": "c23decea",
   "metadata": {},
   "outputs": [
    {
     "name": "stdout",
     "output_type": "stream",
     "text": [
      "a not equal c\n"
     ]
    }
   ],
   "source": [
    "if a != c: \n",
    "    print(\"a not equal c\")\n",
    "else:\n",
    "    print(\"a equal c\")"
   ]
  },
  {
   "cell_type": "markdown",
   "id": "0ed542d0",
   "metadata": {},
   "source": [
    "# While Loop, For Loop"
   ]
  },
  {
   "cell_type": "code",
   "execution_count": 58,
   "id": "e34d22dc",
   "metadata": {},
   "outputs": [
    {
     "name": "stdout",
     "output_type": "stream",
     "text": [
      "1\n",
      "2\n",
      "3\n",
      "4\n",
      "5\n",
      "6\n",
      "7\n",
      "8\n",
      "9\n"
     ]
    }
   ],
   "source": [
    "i = 1\n",
    "while i < 10:\n",
    "    print(i)\n",
    "    i += 1"
   ]
  },
  {
   "cell_type": "code",
   "execution_count": 60,
   "id": "97ee0660",
   "metadata": {},
   "outputs": [
    {
     "name": "stdout",
     "output_type": "stream",
     "text": [
      "1\n",
      "2\n",
      "3\n",
      "4\n",
      "5\n",
      "Finish the loop\n",
      "6\n"
     ]
    }
   ],
   "source": [
    "i = 1 \n",
    "while i < 6:\n",
    "    print(i)\n",
    "    i += 1 \n",
    "else:\n",
    "    print(\"Finish the loop\")\n",
    "print(i)"
   ]
  },
  {
   "cell_type": "code",
   "execution_count": 61,
   "id": "f286bb1f",
   "metadata": {},
   "outputs": [
    {
     "name": "stdout",
     "output_type": "stream",
     "text": [
      "1\n",
      "2\n",
      "3\n"
     ]
    }
   ],
   "source": [
    "i = 1 \n",
    "while i < 6:\n",
    "    if i == 3:\n",
    "        break\n",
    "    print(i)\n",
    "    i += 1 \n",
    "else:\n",
    "    print(\"Loop Break when i = 3\")\n",
    "print(i)"
   ]
  },
  {
   "cell_type": "code",
   "execution_count": 62,
   "id": "79188c4b",
   "metadata": {},
   "outputs": [
    {
     "name": "stdout",
     "output_type": "stream",
     "text": [
      "0\n",
      "1\n",
      "2\n",
      "3\n",
      "4\n",
      "5\n"
     ]
    }
   ],
   "source": [
    "for x in range(6):\n",
    "    print(x)"
   ]
  },
  {
   "cell_type": "code",
   "execution_count": 63,
   "id": "243f288a",
   "metadata": {},
   "outputs": [
    {
     "name": "stdout",
     "output_type": "stream",
     "text": [
      "3\n",
      "4\n",
      "5\n"
     ]
    }
   ],
   "source": [
    "for x in range(3, 6):\n",
    "    print(x)"
   ]
  },
  {
   "cell_type": "code",
   "execution_count": 64,
   "id": "4252d45a",
   "metadata": {},
   "outputs": [
    {
     "name": "stdout",
     "output_type": "stream",
     "text": [
      "3\n",
      "5\n",
      "7\n",
      "9\n"
     ]
    }
   ],
   "source": [
    "for x in range(3, 10, 2):\n",
    "    print(x)"
   ]
  },
  {
   "cell_type": "code",
   "execution_count": 65,
   "id": "538e5ed2",
   "metadata": {},
   "outputs": [
    {
     "name": "stdout",
     "output_type": "stream",
     "text": [
      "0\n",
      "1\n",
      "2\n",
      "3\n",
      "4\n",
      "5\n",
      "Finally finished!\n"
     ]
    }
   ],
   "source": [
    "#  The else block will NOT be executed if the loop is stopped by a break statement.\n",
    "for x in range(6):\n",
    "  print(x)\n",
    "else:\n",
    "  print(\"Finally finished!\") "
   ]
  },
  {
   "cell_type": "markdown",
   "id": "1f5b5757",
   "metadata": {},
   "source": [
    "# Nested Loop "
   ]
  },
  {
   "cell_type": "code",
   "execution_count": 66,
   "id": "9b0c853c",
   "metadata": {},
   "outputs": [
    {
     "name": "stdout",
     "output_type": "stream",
     "text": [
      "red apple\n",
      "red banana\n",
      "red cherry\n",
      "big apple\n",
      "big banana\n",
      "big cherry\n",
      "tasty apple\n",
      "tasty banana\n",
      "tasty cherry\n"
     ]
    }
   ],
   "source": [
    "adj = [\"red\", \"big\", \"tasty\"]\n",
    "fruits = [\"apple\", \"banana\", \"cherry\"]\n",
    "\n",
    "for x in adj:\n",
    "  for y in fruits:\n",
    "    print(x, y) "
   ]
  },
  {
   "cell_type": "code",
   "execution_count": null,
   "id": "2140da0b",
   "metadata": {},
   "outputs": [],
   "source": []
  }
 ],
 "metadata": {
  "kernelspec": {
   "display_name": "Python 3",
   "language": "python",
   "name": "python3"
  },
  "language_info": {
   "codemirror_mode": {
    "name": "ipython",
    "version": 3
   },
   "file_extension": ".py",
   "mimetype": "text/x-python",
   "name": "python",
   "nbconvert_exporter": "python",
   "pygments_lexer": "ipython3",
   "version": "3.8.8"
  }
 },
 "nbformat": 4,
 "nbformat_minor": 5
}
