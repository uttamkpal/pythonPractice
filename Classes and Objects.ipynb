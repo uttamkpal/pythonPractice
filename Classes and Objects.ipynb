{
 "cells": [
  {
   "cell_type": "markdown",
   "id": "7a4131fe",
   "metadata": {},
   "source": [
    "# Classes and Objects"
   ]
  },
  {
   "cell_type": "code",
   "execution_count": 1,
   "id": "87866786",
   "metadata": {},
   "outputs": [
    {
     "name": "stdout",
     "output_type": "stream",
     "text": [
      "<class '__main__.MyClass'>\n"
     ]
    }
   ],
   "source": [
    "# A Class is like an object constructor, or a \"blueprint\" for creating objects.\n",
    "class MyClass:\n",
    "    x = 5\n",
    "\n",
    "print(MyClass)"
   ]
  },
  {
   "cell_type": "code",
   "execution_count": 2,
   "id": "7bf1b988",
   "metadata": {},
   "outputs": [
    {
     "name": "stdout",
     "output_type": "stream",
     "text": [
      "5\n"
     ]
    }
   ],
   "source": [
    "oj = MyClass() # Create Object\n",
    "print(oj.x) # Acsses class propartis"
   ]
  },
  {
   "cell_type": "code",
   "execution_count": 3,
   "id": "6a925161",
   "metadata": {},
   "outputs": [
    {
     "name": "stdout",
     "output_type": "stream",
     "text": [
      "Uttam kumar\n",
      "25\n"
     ]
    }
   ],
   "source": [
    "class Person:\n",
    "    def __init__(self, name, age):\n",
    "        self.name = name\n",
    "        self.age = age\n",
    "        \n",
    "p1 = Person(\"Uttam kumar\", 25)\n",
    "\n",
    "print(p1.name)\n",
    "print(p1.age)"
   ]
  },
  {
   "cell_type": "code",
   "execution_count": 8,
   "id": "3894a712",
   "metadata": {},
   "outputs": [
    {
     "name": "stdout",
     "output_type": "stream",
     "text": [
      "Hello Uttam kumar. You are 25 years old.\n",
      "None\n"
     ]
    }
   ],
   "source": [
    "class Person:\n",
    "    def __init__(self, name, age):\n",
    "        self.name = name\n",
    "        self.age = age\n",
    "    \n",
    "    def myfunc(self):\n",
    "        #  print(\"Hello \"+ self.name + \". You are \"+ str(self.age) + \" years old.\")\n",
    "        print(\"Hello {}. You are {} years old.\".format(self.name, self.age))\n",
    "        \n",
    "p1 = Person(\"Uttam kumar\", 25)\n",
    "print(p1.myfunc())"
   ]
  },
  {
   "cell_type": "code",
   "execution_count": 9,
   "id": "0537e31b",
   "metadata": {},
   "outputs": [
    {
     "name": "stdout",
     "output_type": "stream",
     "text": [
      "25\n",
      "30\n"
     ]
    }
   ],
   "source": [
    "print(p1.age)\n",
    "p1.age = 30\n",
    "print(p1.age)"
   ]
  },
  {
   "cell_type": "code",
   "execution_count": 10,
   "id": "9b305124",
   "metadata": {},
   "outputs": [],
   "source": [
    "del p1"
   ]
  },
  {
   "cell_type": "code",
   "execution_count": 11,
   "id": "aa98caa0",
   "metadata": {},
   "outputs": [
    {
     "ename": "NameError",
     "evalue": "name 'p1' is not defined",
     "output_type": "error",
     "traceback": [
      "\u001b[0;31m---------------------------------------------------------------------------\u001b[0m",
      "\u001b[0;31mNameError\u001b[0m                                 Traceback (most recent call last)",
      "\u001b[0;32m<ipython-input-11-6ad9ba857207>\u001b[0m in \u001b[0;36m<module>\u001b[0;34m\u001b[0m\n\u001b[0;32m----> 1\u001b[0;31m \u001b[0mp1\u001b[0m\u001b[0;34m.\u001b[0m\u001b[0mname\u001b[0m\u001b[0;34m\u001b[0m\u001b[0;34m\u001b[0m\u001b[0m\n\u001b[0m",
      "\u001b[0;31mNameError\u001b[0m: name 'p1' is not defined"
     ]
    }
   ],
   "source": [
    "p1.name"
   ]
  },
  {
   "cell_type": "markdown",
   "id": "ba338e51",
   "metadata": {},
   "source": [
    "# Python Inheritance"
   ]
  },
  {
   "cell_type": "markdown",
   "id": "f6ad1cee",
   "metadata": {},
   "source": [
    "### Parent class is the class being inherited from, also called base class.\n",
    "\n",
    "### Child class is the class that inherits from another class, also called derived class."
   ]
  },
  {
   "cell_type": "code",
   "execution_count": 12,
   "id": "7d101dc7",
   "metadata": {},
   "outputs": [
    {
     "name": "stdout",
     "output_type": "stream",
     "text": [
      "Uttam Kumar\n"
     ]
    }
   ],
   "source": [
    "class Person:\n",
    "    def __init__(self, fname,lname):\n",
    "        self.fname = fname\n",
    "        self.lname = lname\n",
    "    \n",
    "    def fullname(self):\n",
    "        print(self.fname, self.lname)\n",
    "        \n",
    "class Student(Person): #Inherite Person\n",
    "    pass\n",
    "\n",
    "x = Student(\"Uttam\", \"Kumar\")\n",
    "x.fullname()"
   ]
  },
  {
   "cell_type": "code",
   "execution_count": 13,
   "id": "8a87b461",
   "metadata": {},
   "outputs": [
    {
     "name": "stdout",
     "output_type": "stream",
     "text": [
      "Uttam Kumar\n"
     ]
    }
   ],
   "source": [
    "class Person:\n",
    "    def __init__(self, fname,lname):\n",
    "        self.fname = fname\n",
    "        self.lname = lname\n",
    "    \n",
    "    def fullname(self):\n",
    "        print(self.fname, self.lname)\n",
    "        \n",
    "class Student(Person): #Inherite Person\n",
    "    def __init__(self, fname, lname):\n",
    "        Person.__init__(self, fname, lname)\n",
    "\n",
    "x = Student(\"Uttam\", \"Kumar\")\n",
    "x.fullname()"
   ]
  },
  {
   "cell_type": "code",
   "execution_count": 14,
   "id": "06e4325f",
   "metadata": {},
   "outputs": [
    {
     "name": "stdout",
     "output_type": "stream",
     "text": [
      "2019\n"
     ]
    }
   ],
   "source": [
    "class Student(Person):\n",
    "  def __init__(self, fname, lname, year):\n",
    "    super().__init__(fname, lname)\n",
    "    self.graduationyear = year\n",
    "\n",
    "x = Student(\"Mike\", \"Olsen\", 2019) \n",
    "print(x.graduationyear)"
   ]
  },
  {
   "cell_type": "code",
   "execution_count": 15,
   "id": "8c8a7abe",
   "metadata": {},
   "outputs": [
    {
     "name": "stdout",
     "output_type": "stream",
     "text": [
      "Welcome Uttam Kumar to the class of 2022\n"
     ]
    }
   ],
   "source": [
    "class Student(Person):\n",
    "  def __init__(self, fname, lname, year):\n",
    "    super().__init__(fname, lname)\n",
    "    self.graduationyear = year\n",
    "\n",
    "  def welcome(self):\n",
    "    print(\"Welcome\", self.fname, self.lname, \"to the class of\", self.graduationyear)\n",
    "    \n",
    "x = Student('Uttam', 'Kumar', 2022)\n",
    "x.welcome()"
   ]
  },
  {
   "cell_type": "markdown",
   "id": "8fd44519",
   "metadata": {},
   "source": [
    "# Python Iterators"
   ]
  },
  {
   "cell_type": "code",
   "execution_count": 16,
   "id": "c239557c",
   "metadata": {},
   "outputs": [
    {
     "name": "stdout",
     "output_type": "stream",
     "text": [
      "1\n",
      "2\n",
      "3\n",
      "4\n",
      "5\n"
     ]
    }
   ],
   "source": [
    "class MyNumbers:\n",
    "  def __iter__(self):\n",
    "    self.a = 1\n",
    "    return self\n",
    "\n",
    "  def __next__(self):\n",
    "    x = self.a\n",
    "    self.a += 1\n",
    "    return x\n",
    "\n",
    "myclass = MyNumbers()\n",
    "myiter = iter(myclass)\n",
    "\n",
    "print(next(myiter))\n",
    "print(next(myiter))\n",
    "print(next(myiter))\n",
    "print(next(myiter))\n",
    "print(next(myiter))"
   ]
  },
  {
   "cell_type": "code",
   "execution_count": 17,
   "id": "b3fbd4ea",
   "metadata": {},
   "outputs": [
    {
     "name": "stdout",
     "output_type": "stream",
     "text": [
      "1\n",
      "2\n",
      "3\n",
      "4\n",
      "5\n",
      "6\n",
      "7\n",
      "8\n",
      "9\n",
      "10\n",
      "11\n",
      "12\n",
      "13\n",
      "14\n",
      "15\n",
      "16\n",
      "17\n",
      "18\n",
      "19\n",
      "20\n"
     ]
    }
   ],
   "source": [
    "# Stop Iterator\n",
    "class MyNumbers:\n",
    "  def __iter__(self):\n",
    "    self.a = 1\n",
    "    return self\n",
    "\n",
    "  def __next__(self):\n",
    "    if self.a <= 20:\n",
    "      x = self.a\n",
    "      self.a += 1\n",
    "      return x\n",
    "    else:\n",
    "      raise StopIteration\n",
    "\n",
    "myclass = MyNumbers()\n",
    "myiter = iter(myclass)\n",
    "\n",
    "for x in myiter:\n",
    "  print(x)"
   ]
  },
  {
   "cell_type": "markdown",
   "id": "42adb635",
   "metadata": {},
   "source": [
    "# Python Scope"
   ]
  },
  {
   "cell_type": "code",
   "execution_count": 18,
   "id": "8647505c",
   "metadata": {},
   "outputs": [
    {
     "name": "stdout",
     "output_type": "stream",
     "text": [
      "300\n"
     ]
    }
   ],
   "source": [
    "# Function Inside Function\n",
    "\n",
    "def myfunc():\n",
    "  x = 300\n",
    "  def myinnerfunc():\n",
    "    print(x)\n",
    "  myinnerfunc()\n",
    "\n",
    "myfunc() "
   ]
  },
  {
   "cell_type": "markdown",
   "id": "6ef98f2f",
   "metadata": {},
   "source": [
    "### If you operate with the same variable name inside and outside of a function, Python will treat them as two separate variables, one available in the global scope (outside the function) and one available in the local scope (inside the function):"
   ]
  },
  {
   "cell_type": "markdown",
   "id": "994e696c",
   "metadata": {},
   "source": [
    "## Global Keyword"
   ]
  },
  {
   "cell_type": "code",
   "execution_count": 19,
   "id": "d82e6668",
   "metadata": {},
   "outputs": [
    {
     "name": "stdout",
     "output_type": "stream",
     "text": [
      "10000\n",
      "300\n"
     ]
    }
   ],
   "source": [
    "x= 10000\n",
    "print(x)\n",
    "def myfunc():\n",
    "  global x\n",
    "  x = 300\n",
    "\n",
    "myfunc()\n",
    "\n",
    "print(x) "
   ]
  },
  {
   "cell_type": "markdown",
   "id": "e01b2870",
   "metadata": {},
   "source": [
    "# Python Modules"
   ]
  },
  {
   "cell_type": "code",
   "execution_count": 1,
   "id": "590d9b78",
   "metadata": {},
   "outputs": [
    {
     "name": "stdout",
     "output_type": "stream",
     "text": [
      "17\n"
     ]
    }
   ],
   "source": [
    "import MyModule as mm\n",
    "print(mm.sum_total(8,9))"
   ]
  },
  {
   "cell_type": "code",
   "execution_count": 5,
   "id": "82ffc302",
   "metadata": {},
   "outputs": [
    {
     "name": "stdout",
     "output_type": "stream",
     "text": [
      "Linux\n",
      "['_WIN32_CLIENT_RELEASES', '_WIN32_SERVER_RELEASES', '__builtins__', '__cached__', '__copyright__', '__doc__', '__file__', '__loader__', '__name__', '__package__', '__spec__', '__version__', '_comparable_version', '_component_re', '_default_architecture', '_follow_symlinks', '_ironpython26_sys_version_parser', '_ironpython_sys_version_parser', '_java_getprop', '_libc_search', '_mac_ver_xml', '_node', '_norm_version', '_platform', '_platform_cache', '_pypy_sys_version_parser', '_sys_version', '_sys_version_cache', '_sys_version_parser', '_syscmd_file', '_syscmd_uname', '_syscmd_ver', '_uname_cache', '_ver_output', '_ver_stages', 'architecture', 'collections', 'java_ver', 'libc_ver', 'mac_ver', 'machine', 'node', 'os', 'platform', 'processor', 'python_branch', 'python_build', 'python_compiler', 'python_implementation', 'python_revision', 'python_version', 'python_version_tuple', 're', 'release', 'sys', 'system', 'system_alias', 'uname', 'uname_result', 'version', 'win32_edition', 'win32_is_iot', 'win32_ver']\n"
     ]
    }
   ],
   "source": [
    "import platform\n",
    "\n",
    "x = platform.system()\n",
    "print(x) \n",
    "x = dir(platform)\n",
    "print(x)"
   ]
  },
  {
   "cell_type": "markdown",
   "id": "a64457e8",
   "metadata": {},
   "source": [
    "# Import From Module"
   ]
  },
  {
   "cell_type": "code",
   "execution_count": 9,
   "id": "e719b578",
   "metadata": {},
   "outputs": [
    {
     "ename": "ImportError",
     "evalue": "cannot import name 'person1' from 'MyModule' (/home/indexu/Python Project/MyModule.py)",
     "output_type": "error",
     "traceback": [
      "\u001b[0;31m---------------------------------------------------------------------------\u001b[0m",
      "\u001b[0;31mImportError\u001b[0m                               Traceback (most recent call last)",
      "\u001b[0;32m<ipython-input-9-e63582765323>\u001b[0m in \u001b[0;36m<module>\u001b[0;34m\u001b[0m\n\u001b[0;32m----> 1\u001b[0;31m \u001b[0;32mfrom\u001b[0m \u001b[0mMyModule\u001b[0m \u001b[0;32mimport\u001b[0m \u001b[0mperson1\u001b[0m\u001b[0;34m\u001b[0m\u001b[0;34m\u001b[0m\u001b[0m\n\u001b[0m\u001b[1;32m      2\u001b[0m \u001b[0;34m\u001b[0m\u001b[0m\n\u001b[1;32m      3\u001b[0m \u001b[0mprint\u001b[0m \u001b[0;34m(\u001b[0m\u001b[0mperson1\u001b[0m\u001b[0;34m[\u001b[0m\u001b[0;34m\"age\"\u001b[0m\u001b[0;34m]\u001b[0m\u001b[0;34m)\u001b[0m\u001b[0;34m\u001b[0m\u001b[0;34m\u001b[0m\u001b[0m\n",
      "\u001b[0;31mImportError\u001b[0m: cannot import name 'person1' from 'MyModule' (/home/indexu/Python Project/MyModule.py)"
     ]
    }
   ],
   "source": [
    "from MyModule import person1\n",
    "\n",
    "print (person1[\"age\"])"
   ]
  },
  {
   "cell_type": "markdown",
   "id": "fb6b9a58",
   "metadata": {},
   "source": [
    "# Dates"
   ]
  },
  {
   "cell_type": "code",
   "execution_count": 11,
   "id": "e3a6e55a",
   "metadata": {},
   "outputs": [
    {
     "name": "stdout",
     "output_type": "stream",
     "text": [
      "2022-08-14 14:23:03.966325\n"
     ]
    }
   ],
   "source": [
    "import datetime\n",
    "x = datetime.datetime.now()\n",
    "print(x)"
   ]
  },
  {
   "cell_type": "code",
   "execution_count": 12,
   "id": "7bea4c44",
   "metadata": {},
   "outputs": [
    {
     "name": "stdout",
     "output_type": "stream",
     "text": [
      "['MAXYEAR', 'MINYEAR', '__builtins__', '__cached__', '__doc__', '__file__', '__loader__', '__name__', '__package__', '__spec__', 'date', 'datetime', 'datetime_CAPI', 'sys', 'time', 'timedelta', 'timezone', 'tzinfo']\n"
     ]
    }
   ],
   "source": [
    "print(dir(datetime))"
   ]
  },
  {
   "cell_type": "code",
   "execution_count": 14,
   "id": "4b761b08",
   "metadata": {},
   "outputs": [
    {
     "name": "stdout",
     "output_type": "stream",
     "text": [
      "2022\n",
      "Sunday\n",
      "August\n"
     ]
    }
   ],
   "source": [
    "print(x.year)\n",
    "print(x.strftime(\"%A\"))\n",
    "print(x.strftime(\"%B\")) "
   ]
  },
  {
   "cell_type": "code",
   "execution_count": 15,
   "id": "e66a36ae",
   "metadata": {},
   "outputs": [
    {
     "name": "stdout",
     "output_type": "stream",
     "text": [
      "Sun\n",
      "Sunday\n",
      "0\n",
      "14\n",
      "Aug\n",
      "August\n",
      "08\n",
      "22\n",
      "2022\n",
      "14\n",
      "02\n",
      "PM\n",
      "23\n",
      "03\n",
      "966325\n",
      "\n",
      "\n",
      "226\n",
      "33\n",
      "32\n",
      "Sun Aug 14 14:23:03 2022\n",
      "20\n",
      "08/14/22\n",
      "14:23:03\n",
      "2022\n",
      "7\n",
      "32\n",
      "%\n"
     ]
    }
   ],
   "source": [
    "print(x.strftime(\"%a\")) # Weekday, short version    \t Wed\n",
    "print(x.strftime(\"%A\")) # Weekday, full version \tWednesday\n",
    "print(x.strftime(\"%w\")) # Weekday as a number 0-6, 0 is Sunday  \t 3\n",
    "print(x.strftime(\"%d\")) # Day of month 01-31    \t31\n",
    "print(x.strftime(\"%b\")) # Month name, short version \tDec\n",
    "print(x.strftime(\"%B\")) # Month name, full version  \tDecember\n",
    "print(x.strftime(\"%m\")) # Month as a number 01-12   \t12\n",
    "print(x.strftime(\"%y\")) # Year, short version, without century  \t18\n",
    "print(x.strftime(\"%Y\")) # Year, full version    \t2018\n",
    "print(x.strftime(\"%H\")) # Hour 00-23    \t17\n",
    "print(x.strftime(\"%I\")) # Hour 00-12    \t05\n",
    "print(x.strftime(\"%p\")) # AM/PM         \tPM\n",
    "print(x.strftime(\"%M\")) # Minute 00-59  \t41\n",
    "print(x.strftime(\"%S\")) # Second 00-59  \t08\n",
    "print(x.strftime(\"%f\")) # Microsecond 000000-999999 \t548513\n",
    "print(x.strftime(\"%z\")) # UTC offset \t+0100\n",
    "print(x.strftime(\"%Z\")) # Timezone  \tCST\n",
    "print(x.strftime(\"%j\")) # Day number of year 001-366 \t365\n",
    "print(x.strftime(\"%U\")) # Week number of year, Sunday as the first day of week, 00-53   \t52\n",
    "print(x.strftime(\"%W\")) # Week number of year, Monday as the first day of week, 00-53   \t52\n",
    "print(x.strftime(\"%c\")) # Local version of date and time    \tMon Dec 31 17:41:00 2018\n",
    "print(x.strftime(\"%C\")) # Century   \t20\n",
    "print(x.strftime(\"%x\")) # Local version of date \t12/31/18\n",
    "print(x.strftime(\"%X\")) # Local version of time \t17:41:00\n",
    "print(x.strftime(\"%G\")) # ISO 8601 year     \t2018\n",
    "print(x.strftime(\"%u\")) # ISO 8601 weekday (1-7)    \t1\n",
    "print(x.strftime(\"%V\")) # ISO 8601 weeknumber (01-53)   \t01\n",
    "print(x.strftime(\"%%\")) # A % character \t%"
   ]
  },
  {
   "cell_type": "code",
   "execution_count": null,
   "id": "1d94f3f3",
   "metadata": {},
   "outputs": [],
   "source": []
  }
 ],
 "metadata": {
  "kernelspec": {
   "display_name": "Python 3",
   "language": "python",
   "name": "python3"
  },
  "language_info": {
   "codemirror_mode": {
    "name": "ipython",
    "version": 3
   },
   "file_extension": ".py",
   "mimetype": "text/x-python",
   "name": "python",
   "nbconvert_exporter": "python",
   "pygments_lexer": "ipython3",
   "version": "3.8.8"
  }
 },
 "nbformat": 4,
 "nbformat_minor": 5
}
