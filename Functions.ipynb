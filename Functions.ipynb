{
 "cells": [
  {
   "cell_type": "markdown",
   "id": "2815987c",
   "metadata": {},
   "source": [
    "# Functions"
   ]
  },
  {
   "cell_type": "code",
   "execution_count": 1,
   "id": "08885719",
   "metadata": {},
   "outputs": [
    {
     "name": "stdout",
     "output_type": "stream",
     "text": [
      "say Hi.....\n"
     ]
    }
   ],
   "source": [
    "def say(): #defined function\n",
    "    print(\"say Hi.....\")\n",
    "    \n",
    "say() #call function"
   ]
  },
  {
   "cell_type": "markdown",
   "id": "78c0d5cc",
   "metadata": {},
   "source": [
    "### A parameter is the variable listed inside the parentheses in the function definition.\n",
    "\n",
    "### An argument is the value that is sent to the function when it is called."
   ]
  },
  {
   "cell_type": "code",
   "execution_count": 2,
   "id": "a2bbcfb4",
   "metadata": {},
   "outputs": [
    {
     "name": "stdout",
     "output_type": "stream",
     "text": [
      "Uttam Kumar\n"
     ]
    }
   ],
   "source": [
    "def name(fname, lname): # parameter\n",
    "    print(fname + ' ' + lname)\n",
    "    \n",
    "name(\"Uttam\", \"Kumar\") #argument"
   ]
  },
  {
   "cell_type": "code",
   "execution_count": 3,
   "id": "7baf1d0e",
   "metadata": {},
   "outputs": [
    {
     "ename": "TypeError",
     "evalue": "name() missing 1 required positional argument: 'lname'",
     "output_type": "error",
     "traceback": [
      "\u001b[0;31m---------------------------------------------------------------------------\u001b[0m",
      "\u001b[0;31mTypeError\u001b[0m                                 Traceback (most recent call last)",
      "\u001b[0;32m<ipython-input-3-0ee879c54885>\u001b[0m in \u001b[0;36m<module>\u001b[0;34m\u001b[0m\n\u001b[0;32m----> 1\u001b[0;31m \u001b[0mname\u001b[0m\u001b[0;34m(\u001b[0m\u001b[0;34m\"uttam\"\u001b[0m\u001b[0;34m)\u001b[0m\u001b[0;34m\u001b[0m\u001b[0;34m\u001b[0m\u001b[0m\n\u001b[0m",
      "\u001b[0;31mTypeError\u001b[0m: name() missing 1 required positional argument: 'lname'"
     ]
    }
   ],
   "source": [
    "name(\"uttam\")"
   ]
  },
  {
   "cell_type": "code",
   "execution_count": 4,
   "id": "e7b9c14e",
   "metadata": {},
   "outputs": [
    {
     "name": "stdout",
     "output_type": "stream",
     "text": [
      "one\n",
      "2\n",
      "three\n"
     ]
    }
   ],
   "source": [
    "# Arbitrary Arguments, *args\n",
    "def my_list(*items):\n",
    "    for item in items:\n",
    "        print(item)\n",
    "        \n",
    "my_list(\"one\", 2, \"three\")"
   ]
  },
  {
   "cell_type": "code",
   "execution_count": 5,
   "id": "267fac15",
   "metadata": {},
   "outputs": [
    {
     "name": "stdout",
     "output_type": "stream",
     "text": [
      "The youngest child is Linus\n"
     ]
    }
   ],
   "source": [
    "# Keyword Arguments\n",
    "def my_function(child3, child2, child1):\n",
    "  print(\"The youngest child is \" + child3)\n",
    "\n",
    "my_function(child1 = \"Emil\", child2 = \"Tobias\", child3 = \"Linus\") "
   ]
  },
  {
   "cell_type": "code",
   "execution_count": 6,
   "id": "8998c5df",
   "metadata": {},
   "outputs": [
    {
     "name": "stdout",
     "output_type": "stream",
     "text": [
      "His last name is Refsnes\n"
     ]
    }
   ],
   "source": [
    "# Arbitrary Keyword Arguments, **kwargs\n",
    "def my_function(**kid):\n",
    "  print(\"His last name is \" + kid[\"lname\"])\n",
    "\n",
    "my_function(fname = \"Tobias\", lname = \"Refsnes\")"
   ]
  },
  {
   "cell_type": "markdown",
   "id": "85ae6feb",
   "metadata": {},
   "source": [
    "# Default Parameter Value"
   ]
  },
  {
   "cell_type": "code",
   "execution_count": 8,
   "id": "9a0b53c0",
   "metadata": {},
   "outputs": [
    {
     "name": "stdout",
     "output_type": "stream",
     "text": [
      "Uttam\n",
      "Uttam2\n",
      "No Name pass\n",
      "God is my friend\n"
     ]
    }
   ],
   "source": [
    "def friend(name = \"No Name pass\"):\n",
    "    print(name)\n",
    "    \n",
    "friend(\"Uttam\")\n",
    "friend(\"Uttam2\")\n",
    "friend()\n",
    "friend(\"God is my friend\")"
   ]
  },
  {
   "cell_type": "code",
   "execution_count": 9,
   "id": "c29aa0e4",
   "metadata": {},
   "outputs": [
    {
     "name": "stdout",
     "output_type": "stream",
     "text": [
      "apple\n",
      "banana\n",
      "cherry\n"
     ]
    }
   ],
   "source": [
    "# Passing a List as an Argument\n",
    "def my_function(food):\n",
    "  for x in food:\n",
    "    print(x)\n",
    "\n",
    "fruits = [\"apple\", \"banana\", \"cherry\"]\n",
    "\n",
    "my_function(fruits)"
   ]
  },
  {
   "cell_type": "code",
   "execution_count": 10,
   "id": "9bb5a79b",
   "metadata": {},
   "outputs": [
    {
     "name": "stdout",
     "output_type": "stream",
     "text": [
      "33\n",
      "77\n"
     ]
    }
   ],
   "source": [
    "#Return Values\n",
    "def sum_two_number(a,b):\n",
    "    return a + b\n",
    "print(sum_two_number(12,21))\n",
    "print(sum_two_number(43,34))"
   ]
  },
  {
   "cell_type": "code",
   "execution_count": 13,
   "id": "042d04c3",
   "metadata": {},
   "outputs": [
    {
     "name": "stdout",
     "output_type": "stream",
     "text": [
      "1 1\n",
      "2 2\n",
      "6 3\n",
      "24 4\n",
      "120 5\n"
     ]
    },
    {
     "data": {
      "text/plain": [
       "120"
      ]
     },
     "execution_count": 13,
     "metadata": {},
     "output_type": "execute_result"
    }
   ],
   "source": [
    "# Recursion\n",
    "def factorial(n):\n",
    "    if n > 0:\n",
    "        result = n * factorial(n-1)\n",
    "        print(result, n)\n",
    "    else:\n",
    "        result = 1\n",
    "    return result\n",
    "factorial(5)"
   ]
  },
  {
   "cell_type": "markdown",
   "id": "11f2f584",
   "metadata": {},
   "source": [
    "# Python Lambda"
   ]
  },
  {
   "cell_type": "markdown",
   "id": "c0bdaed0",
   "metadata": {},
   "source": [
    "### A lambda function is a small anonymous function.\n",
    "\n",
    "### A lambda function can take any number of arguments, but can only have one expression.\n",
    "\n",
    "## lambda arguments : expression"
   ]
  },
  {
   "cell_type": "code",
   "execution_count": 15,
   "id": "11ca945a",
   "metadata": {},
   "outputs": [
    {
     "name": "stdout",
     "output_type": "stream",
     "text": [
      "<function <lambda> at 0x7f592baec040>\n",
      "40\n"
     ]
    }
   ],
   "source": [
    "x = lambda a : a + 10\n",
    "print(x)\n",
    "print(x(30))"
   ]
  },
  {
   "cell_type": "code",
   "execution_count": 17,
   "id": "0f346e00",
   "metadata": {},
   "outputs": [
    {
     "name": "stdout",
     "output_type": "stream",
     "text": [
      "<function myfunc.<locals>.<lambda> at 0x7f5944b0b280>\n",
      "22\n"
     ]
    }
   ],
   "source": [
    "def myfunc(n):\n",
    "  return lambda a : a * n\n",
    "\n",
    "mydoubler = myfunc(2)\n",
    "print(mydoubler)\n",
    "\n",
    "print(mydoubler(11))"
   ]
  }
 ],
 "metadata": {
  "kernelspec": {
   "display_name": "Python 3",
   "language": "python",
   "name": "python3"
  },
  "language_info": {
   "codemirror_mode": {
    "name": "ipython",
    "version": 3
   },
   "file_extension": ".py",
   "mimetype": "text/x-python",
   "name": "python",
   "nbconvert_exporter": "python",
   "pygments_lexer": "ipython3",
   "version": "3.8.8"
  }
 },
 "nbformat": 4,
 "nbformat_minor": 5
}
