{
 "cells": [
  {
   "cell_type": "markdown",
   "id": "02f3941c",
   "metadata": {},
   "source": [
    "# Python Math"
   ]
  },
  {
   "cell_type": "code",
   "execution_count": 2,
   "id": "5b97c7b9",
   "metadata": {},
   "outputs": [
    {
     "name": "stdout",
     "output_type": "stream",
     "text": [
      "221\n",
      "5654\n"
     ]
    }
   ],
   "source": [
    "x = [221,334,5654,333]\n",
    "print(min(x))\n",
    "print(max(x))"
   ]
  },
  {
   "cell_type": "code",
   "execution_count": 3,
   "id": "5c8030d2",
   "metadata": {},
   "outputs": [
    {
     "name": "stdout",
     "output_type": "stream",
     "text": [
      "12.323\n"
     ]
    }
   ],
   "source": [
    "print(abs(-12.323))"
   ]
  },
  {
   "cell_type": "code",
   "execution_count": 4,
   "id": "5fa2ad94",
   "metadata": {},
   "outputs": [
    {
     "name": "stdout",
     "output_type": "stream",
     "text": [
      "64\n"
     ]
    }
   ],
   "source": [
    "print(pow(4, 3)) # X to the power y"
   ]
  },
  {
   "cell_type": "code",
   "execution_count": 5,
   "id": "d0fa75c2",
   "metadata": {
    "scrolled": false
   },
   "outputs": [
    {
     "name": "stdout",
     "output_type": "stream",
     "text": [
      "['__doc__', '__file__', '__loader__', '__name__', '__package__', '__spec__', 'acos', 'acosh', 'asin', 'asinh', 'atan', 'atan2', 'atanh', 'ceil', 'comb', 'copysign', 'cos', 'cosh', 'degrees', 'dist', 'e', 'erf', 'erfc', 'exp', 'expm1', 'fabs', 'factorial', 'floor', 'fmod', 'frexp', 'fsum', 'gamma', 'gcd', 'hypot', 'inf', 'isclose', 'isfinite', 'isinf', 'isnan', 'isqrt', 'ldexp', 'lgamma', 'log', 'log10', 'log1p', 'log2', 'modf', 'nan', 'perm', 'pi', 'pow', 'prod', 'radians', 'remainder', 'sin', 'sinh', 'sqrt', 'tan', 'tanh', 'tau', 'trunc']\n"
     ]
    }
   ],
   "source": [
    "import math\n",
    "print(dir(math))"
   ]
  },
  {
   "cell_type": "raw",
   "id": "349f3e66",
   "metadata": {},
   "source": [
    "math.sqrt(64)\n",
    "math.ceil(1.4)\n",
    "math.floor(1.4)\n",
    "math.pi\n",
    "\n",
    "# Math Methods\n",
    "\n",
    "Method          Description\n",
    "\n",
    "math.acos() \tReturns the arc cosine of a number\n",
    "math.acosh() \tReturns the inverse hyperbolic cosine of a number\n",
    "math.asin() \tReturns the arc sine of a number\n",
    "math.asinh() \tReturns the inverse hyperbolic sine of a number\n",
    "math.atan() \tReturns the arc tangent of a number in radians\n",
    "math.atan2() \tReturns the arc tangent of y/x in radians\n",
    "math.atanh() \tReturns the inverse hyperbolic tangent of a number\n",
    "math.ceil() \tRounds a number up to the nearest integer\n",
    "math.comb() \tReturns the number of ways to choose k items from n items without repetition and order\n",
    "math.copysign() Returns a float consisting of the value of the first parameter and the sign of the second parameter\n",
    "math.cos() \t    Returns the cosine of a number\n",
    "math.cosh() \tReturns the hyperbolic cosine of a number\n",
    "math.degrees() \tConverts an angle from radians to degrees\n",
    "math.dist() \tReturns the Euclidean distance between two points (p and q), where p and q are the coordinates of                   that point\n",
    "math.erf() \t    Returns the error function of a number\n",
    "math.erfc() \tReturns the complementary error function of a number\n",
    "math.exp() \t    Returns E raised to the power of x\n",
    "math.expm1() \tReturns Ex - 1\n",
    "math.fabs() \tReturns the absolute value of a number\n",
    "math.factorial() Returns the factorial of a number\n",
    "math.floor() \tRounds a number down to the nearest integer\n",
    "math.fmod() \tReturns the remainder of x/y\n",
    "math.frexp() \tReturns the mantissa and the exponent, of a specified number\n",
    "math.fsum() \tReturns the sum of all items in any iterable (tuples, arrays, lists, etc.)\n",
    "math.gamma() \tReturns the gamma function at x\n",
    "math.gcd() \t    Returns the greatest common divisor of two integers\n",
    "math.hypot() \tReturns the Euclidean norm\n",
    "math.isclose() \tChecks whether two values are close to each other, or not\n",
    "math.isfinite() Checks whether a number is finite or not\n",
    "math.isinf() \tChecks whether a number is infinite or not\n",
    "math.isnan() \tChecks whether a value is NaN (not a number) or not\n",
    "math.isqrt() \tRounds a square root number downwards to the nearest integer\n",
    "math.ldexp() \tReturns the inverse of math.frexp() which is x * (2 ** i) of the given numbers x and i\n",
    "math.lgamma() \tReturns the log gamma value of x\n",
    "math.log() \t    Returns the natural logarithm of a number, or the logarithm of number to base\n",
    "math.log10() \tReturns the base-10 logarithm of x\n",
    "math.log1p() \tReturns the natural logarithm of 1+x\n",
    "math.log2() \tReturns the base-2 logarithm of x\n",
    "math.perm() \tReturns the number of ways to choose k items from n items with order and without repetition\n",
    "math.pow() \t    Returns the value of x to the power of y\n",
    "math.prod() \tReturns the product of all the elements in an iterable\n",
    "math.radians() \tConverts a degree value into radians\n",
    "math.remainder() Returns the closest value that can make numerator completely divisible by the denominator\n",
    "math.sin() \t    Returns the sine of a number\n",
    "math.sinh() \tReturns the hyperbolic sine of a number\n",
    "math.sqrt() \tReturns the square root of a number\n",
    "math.tan() \t    Returns the tangent of a number\n",
    "math.tanh() \tReturns the hyperbolic tangent of a number\n",
    "math.trunc() \tReturns the truncated integer parts of a number\n",
    "\n",
    "# Math Constants\n",
    "math.e \t    Returns Euler's number (2.7182...)\n",
    "math.inf \tReturns a floating-point positive infinity\n",
    "math.nan \tReturns a floating-point NaN (Not a Number) value\n",
    "math.pi \tReturns PI (3.1415...)\n",
    "math.tau \tReturns tau (6.2831...)"
   ]
  },
  {
   "cell_type": "markdown",
   "id": "c092308f",
   "metadata": {},
   "source": [
    "# Python cmath Module\n",
    "\n",
    "Python has a built-in module that you can use for mathematical tasks for complex numbers.\n",
    "**The methods in this module accepts int, float, and complex numbers. It even accepts Python objects that has a __complex__() or __float__() method."
   ]
  },
  {
   "cell_type": "code",
   "execution_count": 6,
   "id": "981dfab6",
   "metadata": {},
   "outputs": [
    {
     "name": "stdout",
     "output_type": "stream",
     "text": [
      "(1.0001435424737972-1.9833870299165355j)\n"
     ]
    }
   ],
   "source": [
    "#import cmath for complex number operations\n",
    "import cmath\n",
    "\n",
    "#find the arc cosine of a complex number\n",
    "print (cmath.acos(2+3j))"
   ]
  },
  {
   "cell_type": "markdown",
   "id": "21be0515",
   "metadata": {},
   "source": [
    "# cMath Methods"
   ]
  },
  {
   "cell_type": "raw",
   "id": "8c371401",
   "metadata": {},
   "source": [
    "Method  \t    Description\n",
    "\n",
    "cmath.acos(x) \tReturns the arc cosine value of x\n",
    "cmath.acosh(x) \tReturns the hyperbolic arc cosine of x\n",
    "cmath.asin(x) \tReturns the arc sine of x\n",
    "cmath.asinh(x) \tReturns the hyperbolic arc sine of x\n",
    "cmath.atan(x) \tReturns the arc tangent value of x\n",
    "cmath.atanh(x) \tReturns the hyperbolic arctangent value of x\n",
    "cmath.cos(x) \tReturns the cosine of x\n",
    "cmath.cosh(x) \tReturns the hyperbolic cosine of x\n",
    "cmath.exp(x) \tReturns the value of Ex, where E is Euler's number (approximately 2.718281...), and x is the number                  passed to it\n",
    "cmath.isclose() Checks whether two values are close, or not\n",
    "cmath.isfinite(x) Checks whether x is a finite number\n",
    "cmath.isinf(x) \tCheck whether x is a positive or negative infinty\n",
    "cmath.isnan(x) \tChecks whether x is NaN (not a number)\n",
    "cmath.log(x[, base]) Returns the logarithm of x to the base\n",
    "cmath.log10(x) \tReturns the base-10 logarithm of x\n",
    "cmath.phase() \tReturn the phase of a complex number\n",
    "cmath.polar() \tConvert a complex number to polar coordinates\n",
    "cmath.rect() \tConvert polar coordinates to rectangular form\n",
    "cmath.sin(x) \tReturns the sine of x\n",
    "cmath.sinh(x) \tReturns the hyperbolic sine of x\n",
    "cmath.sqrt(x) \tReturns the square root of x\n",
    "cmath.tan(x) \tReturns the tangent of x\n",
    "cmath.tanh(x) \tReturns the hyperbolic tangent of x"
   ]
  },
  {
   "cell_type": "markdown",
   "id": "409f3d3a",
   "metadata": {},
   "source": [
    "# cMath Constants"
   ]
  },
  {
   "cell_type": "markdown",
   "id": "54421810",
   "metadata": {},
   "source": [
    "Constant \tDescription\n",
    "\n",
    "cmath.e \tReturns Euler's number (2.7182...)\n",
    "cmath.inf \tReturns a floating-point positive infinity value\n",
    "cmath.infj \tReturns a complex infinity value\n",
    "cmath.nan \tReturns floating-point NaN (Not a Number) value\n",
    "cmath.nanj \tReturns coplext NaN (Not a Number) value\n",
    "cmath.pi \tReturns PI (3.1415...)\n",
    "cmath.tau \tReturns tau (6.2831...)"
   ]
  },
  {
   "cell_type": "markdown",
   "id": "58c7e5fd",
   "metadata": {},
   "source": [
    "# Python statistics Module"
   ]
  },
  {
   "cell_type": "code",
   "execution_count": 7,
   "id": "d27e0896",
   "metadata": {},
   "outputs": [
    {
     "name": "stdout",
     "output_type": "stream",
     "text": [
      "55.38461538461538\n",
      "27.97513321492007\n"
     ]
    }
   ],
   "source": [
    "# Import statistics Library\n",
    "import statistics\n",
    "\n",
    "# Calculate harmonic mean\n",
    "print(statistics.harmonic_mean([40, 60, 80]))\n",
    "print(statistics.harmonic_mean([10, 30, 50, 70, 90]))"
   ]
  },
  {
   "cell_type": "markdown",
   "id": "30b5a6d9",
   "metadata": {},
   "source": [
    "## Statistics Methods"
   ]
  },
  {
   "cell_type": "raw",
   "id": "d9054faa",
   "metadata": {},
   "source": [
    "      Method \t                       Description\n",
    "      \n",
    "statistics.harmonic_mean() \tCalculates the harmonic mean (central location) of the given data\n",
    "statistics.mean() \t        Calculates the mean (average) of the given data\n",
    "statistics.median() \t    Calculates the median (middle value) of the given data\n",
    "statistics.median_grouped() Calculates the median of grouped continuous data\n",
    "statistics.median_high() \tCalculates the high median of the given data\n",
    "statistics.median_low() \tCalculates the low median of the given data\n",
    "statistics.mode() \t        Calculates the mode (central tendency) of the given numeric or nominal data\n",
    "statistics.pstdev() \t    Calculates the standard deviation from an entire population\n",
    "statistics.stdev() \t        Calculates the standard deviation from a sample of data\n",
    "statistics.pvariance() \t    Calculates the variance of an entire population\n",
    "statistics.variance() \t    Calculates the variance from a sample of data"
   ]
  },
  {
   "cell_type": "code",
   "execution_count": 8,
   "id": "6f4762d7",
   "metadata": {},
   "outputs": [
    {
     "name": "stdout",
     "output_type": "stream",
     "text": [
      "<!DOCTYPE html>\n",
      "<html>\n",
      "<body>\n",
      "\n",
      "<h1>This is a Test Page</h1>\n",
      "\n",
      "</body>\n",
      "</html>\n"
     ]
    }
   ],
   "source": [
    "import requests\n",
    "\n",
    "x = requests.get('https://w3schools.com/python/demopage.htm')\n",
    "\n",
    "print(x.text)"
   ]
  },
  {
   "cell_type": "markdown",
   "id": "e6e99c2d",
   "metadata": {},
   "source": [
    "# Python Requests Module\n",
    "\n",
    "### Methods"
   ]
  },
  {
   "cell_type": "raw",
   "id": "6df93433",
   "metadata": {},
   "source": [
    "       Method                       Description\n",
    "delete(url, args) \t           Sends a DELETE request to the specified url\n",
    "get(url, params, args) \t       Sends a GET request to the specified url\n",
    "head(url, args) \t           Sends a HEAD request to the specified url\n",
    "patch(url, data, args) \t       Sends a PATCH request to the specified url\n",
    "post(url, data, json, args)    Sends a POST request to the specified url\n",
    "put(url, data, args) \t       Sends a PUT request to the specified url\n",
    "request(method, url, args) \t   Sends a request of the specified method to the specified url"
   ]
  },
  {
   "cell_type": "markdown",
   "id": "e0c89a1f",
   "metadata": {},
   "source": [
    "# Python Random Module\n",
    "\n",
    "### methods"
   ]
  },
  {
   "cell_type": "raw",
   "id": "ccc537b2",
   "metadata": {},
   "source": [
    "   Method           \tDescription\n",
    "seed() \t    Initialize the random number generator\n",
    "getstate() \tReturns the current internal state of the random number generator\n",
    "setstate() \tRestores the internal state of the random number generator\n",
    "getrandbits() \tReturns a number representing the random bits\n",
    "randrange() \tReturns a random number between the given range\n",
    "randint() \tReturns a random number between the given range\n",
    "choice() \tReturns a random element from the given sequence\n",
    "choices() \tReturns a list with a random selection from the given sequence\n",
    "shuffle() \tTakes a sequence and returns the sequence in a random order\n",
    "sample() \tReturns a given sample of a sequence\n",
    "random() \tReturns a random float number between 0 and 1\n",
    "uniform() \tReturns a random float number between two given parameters\n",
    "triangular() \tReturns a random float number between two given parameters, you can also set a mode parameter to                      specify the midpoint between the two other parameters\n",
    "betavariate() \tReturns a random float number between 0 and 1 based on the Beta distribution (used in statistics)\n",
    "expovariate() \tReturns a random float number based on the Exponential distribution (used in statistics)\n",
    "gammavariate() \tReturns a random float number based on the Gamma distribution (used in statistics)\n",
    "gauss() \t    Returns a random float number based on the Gaussian distribution (used in probability theories)\n",
    "lognormvariate() \tReturns a random float number based on a log-normal distribution (used in probability theories)\n",
    "normalvariate() \tReturns a random float number based on the normal distribution (used in probability theories)\n",
    "vonmisesvariate() \tReturns a random float number based on the von Mises distribution (used in directional        \n",
    "                     statistics)\n",
    "paretovariate() \tReturns a random float number based on the Pareto distribution (used in probability theories)\n",
    "weibullvariate() \tReturns a random float number based on the Weibull distribution (used in statistics)"
   ]
  },
  {
   "cell_type": "code",
   "execution_count": null,
   "id": "a8fd4b48",
   "metadata": {},
   "outputs": [],
   "source": []
  }
 ],
 "metadata": {
  "kernelspec": {
   "display_name": "Python 3",
   "language": "python",
   "name": "python3"
  },
  "language_info": {
   "codemirror_mode": {
    "name": "ipython",
    "version": 3
   },
   "file_extension": ".py",
   "mimetype": "text/x-python",
   "name": "python",
   "nbconvert_exporter": "python",
   "pygments_lexer": "ipython3",
   "version": "3.8.8"
  }
 },
 "nbformat": 4,
 "nbformat_minor": 5
}
